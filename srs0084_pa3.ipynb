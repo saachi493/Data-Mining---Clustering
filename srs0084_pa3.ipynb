{
 "cells": [
  {
   "cell_type": "markdown",
   "metadata": {},
   "source": [
    "# Programming Assignment # 3 Clustering"
   ]
  },
  {
   "cell_type": "markdown",
   "metadata": {},
   "source": [
    "## Student Details"
   ]
  },
  {
   "attachments": {},
   "cell_type": "markdown",
   "metadata": {},
   "source": [
    "When submitting, fill your full name, your student ID and your NetID in this cell. Note that this is a markdown cell! \n",
    "\n",
    "Student Full Name:Saachi Shivhare\n",
    "\n",
    "ID:1001830083\n",
    "\n",
    "Team Mate name :Niraj Tummala\n",
    "\n",
    "ID:1001659261"
   ]
  },
  {
   "cell_type": "markdown",
   "metadata": {},
   "source": [
    "## Rules"
   ]
  },
  {
   "cell_type": "markdown",
   "metadata": {},
   "source": [
    "1. Work is to be done in a team\n",
    "2. Any cheating including plagiarism, cooperation will be reported to the corresponding UTA’ s instance.\n",
    "3. If using any resource (books, internet), please make sure that you cite it.\n",
    "4. Follow the given structure. Specifically, place all your tasks in THIS NOTEBOOK BUT IN SEPARATE BLOCKS. Then save this notebook as 'yourNetID_pa3.ipynb' and submit it. \n",
    "5. Do not alter the dataset name.\n",
    "6. Please dont ask any details specific to the project like \"How to plot XYZ ? What parameters are to be used? \" and so on..\n",
    "7. Report is not required for this assignment. If you want to document a function or a process, just comment or use markup cell.\n",
    "8. Please dont send images of your visualizations to verify whether they are right or not before submission deadline.\n",
    "\n"
   ]
  },
  {
   "cell_type": "markdown",
   "metadata": {},
   "source": [
    "## Assignment Details"
   ]
  },
  {
   "cell_type": "markdown",
   "metadata": {
    "collapsed": true
   },
   "source": [
    "The purpose of this assignment is to cluster adults using K-means clustering and Hierarchical Agglomerative clustering models and to visualize clusters for predicted and actual cluster labels.\n",
    "\n",
    "\n",
    "Your dataset is part of \"Adult\". You can find more information here: https://archive.ics.uci.edu/ml/datasets/adult.\n",
    "The classification problem is whether they earn more than 50,000$ or not.\n",
    "\n",
    "\n",
    "\n",
    "You need to submit this ipython file after renaming it. \n",
    "\n",
    "Preprocessing will be needed for the data as most of the data is in string and needs to be quantified.\n",
    "\n"
   ]
  },
  {
   "cell_type": "code",
   "execution_count": 2,
   "metadata": {},
   "outputs": [
    {
     "data": {
      "application/javascript": [
       "IPython.OutputArea.prototype._should_scroll = function(lines) {\n",
       "    return false;\n",
       "}\n"
      ],
      "text/plain": [
       "<IPython.core.display.Javascript object>"
      ]
     },
     "metadata": {},
     "output_type": "display_data"
    }
   ],
   "source": [
    "%%javascript\n",
    "IPython.OutputArea.prototype._should_scroll = function(lines) {\n",
    "    return false;\n",
    "}"
   ]
  },
  {
   "cell_type": "markdown",
   "metadata": {},
   "source": [
    "## Required Python Packages "
   ]
  },
  {
   "cell_type": "code",
   "execution_count": 3,
   "metadata": {},
   "outputs": [],
   "source": [
    "# Import required Python packages here\n",
    "#Seaborn,numpy,pandas,sklearn,matplotlib only\n",
    "import pandas as pd  \n",
    "import numpy as np  \n",
    "import matplotlib.pyplot as plt  \n",
    "from sklearn.model_selection import train_test_split \n",
    "from sklearn.cluster import KMeans\n",
    "from sklearn import metrics\n",
    "from sklearn.preprocessing import LabelEncoder \n",
    "%matplotlib inline\n",
    "from sklearn.metrics import confusion_matrix\n",
    "from sklearn.metrics import classification_report\n",
    "\n",
    "from sklearn.metrics import precision_score\n",
    "from sklearn.metrics import recall_score"
   ]
  },
  {
   "cell_type": "code",
   "execution_count": 4,
   "metadata": {},
   "outputs": [
    {
     "data": {
      "text/html": [
       "<div>\n",
       "<style scoped>\n",
       "    .dataframe tbody tr th:only-of-type {\n",
       "        vertical-align: middle;\n",
       "    }\n",
       "\n",
       "    .dataframe tbody tr th {\n",
       "        vertical-align: top;\n",
       "    }\n",
       "\n",
       "    .dataframe thead th {\n",
       "        text-align: right;\n",
       "    }\n",
       "</style>\n",
       "<table border=\"1\" class=\"dataframe\">\n",
       "  <thead>\n",
       "    <tr style=\"text-align: right;\">\n",
       "      <th></th>\n",
       "      <th>Age</th>\n",
       "      <th>WorkClass</th>\n",
       "      <th>Fnlwght</th>\n",
       "      <th>Education</th>\n",
       "      <th>EducationNumber</th>\n",
       "      <th>MaritalStatus</th>\n",
       "      <th>Occupation</th>\n",
       "      <th>Relationship</th>\n",
       "      <th>Race</th>\n",
       "      <th>Sex</th>\n",
       "      <th>CapitalGain</th>\n",
       "      <th>CapitalLoss</th>\n",
       "      <th>HoursPerWeek</th>\n",
       "      <th>NativeCountry</th>\n",
       "      <th>Class</th>\n",
       "    </tr>\n",
       "  </thead>\n",
       "  <tbody>\n",
       "    <tr>\n",
       "      <th>0</th>\n",
       "      <td>39</td>\n",
       "      <td>State-gov</td>\n",
       "      <td>77516</td>\n",
       "      <td>Bachelors</td>\n",
       "      <td>13</td>\n",
       "      <td>Never-married</td>\n",
       "      <td>Adm-clerical</td>\n",
       "      <td>Not-in-family</td>\n",
       "      <td>White</td>\n",
       "      <td>Male</td>\n",
       "      <td>2174</td>\n",
       "      <td>0</td>\n",
       "      <td>40</td>\n",
       "      <td>United-States</td>\n",
       "      <td>&lt;=50K</td>\n",
       "    </tr>\n",
       "    <tr>\n",
       "      <th>1</th>\n",
       "      <td>50</td>\n",
       "      <td>Self-emp-not-inc</td>\n",
       "      <td>83311</td>\n",
       "      <td>Bachelors</td>\n",
       "      <td>13</td>\n",
       "      <td>Married-civ-spouse</td>\n",
       "      <td>Exec-managerial</td>\n",
       "      <td>Husband</td>\n",
       "      <td>White</td>\n",
       "      <td>Male</td>\n",
       "      <td>0</td>\n",
       "      <td>0</td>\n",
       "      <td>13</td>\n",
       "      <td>United-States</td>\n",
       "      <td>&lt;=50K</td>\n",
       "    </tr>\n",
       "    <tr>\n",
       "      <th>2</th>\n",
       "      <td>38</td>\n",
       "      <td>Private</td>\n",
       "      <td>215646</td>\n",
       "      <td>HS-grad</td>\n",
       "      <td>9</td>\n",
       "      <td>Divorced</td>\n",
       "      <td>Handlers-cleaners</td>\n",
       "      <td>Not-in-family</td>\n",
       "      <td>White</td>\n",
       "      <td>Male</td>\n",
       "      <td>0</td>\n",
       "      <td>0</td>\n",
       "      <td>40</td>\n",
       "      <td>United-States</td>\n",
       "      <td>&lt;=50K</td>\n",
       "    </tr>\n",
       "    <tr>\n",
       "      <th>3</th>\n",
       "      <td>53</td>\n",
       "      <td>Private</td>\n",
       "      <td>234721</td>\n",
       "      <td>11th</td>\n",
       "      <td>7</td>\n",
       "      <td>Married-civ-spouse</td>\n",
       "      <td>Handlers-cleaners</td>\n",
       "      <td>Husband</td>\n",
       "      <td>Black</td>\n",
       "      <td>Male</td>\n",
       "      <td>0</td>\n",
       "      <td>0</td>\n",
       "      <td>40</td>\n",
       "      <td>United-States</td>\n",
       "      <td>&lt;=50K</td>\n",
       "    </tr>\n",
       "    <tr>\n",
       "      <th>4</th>\n",
       "      <td>28</td>\n",
       "      <td>Private</td>\n",
       "      <td>338409</td>\n",
       "      <td>Bachelors</td>\n",
       "      <td>13</td>\n",
       "      <td>Married-civ-spouse</td>\n",
       "      <td>Prof-specialty</td>\n",
       "      <td>Wife</td>\n",
       "      <td>Black</td>\n",
       "      <td>Female</td>\n",
       "      <td>0</td>\n",
       "      <td>0</td>\n",
       "      <td>40</td>\n",
       "      <td>Cuba</td>\n",
       "      <td>&lt;=50K</td>\n",
       "    </tr>\n",
       "  </tbody>\n",
       "</table>\n",
       "</div>"
      ],
      "text/plain": [
       "   Age          WorkClass  Fnlwght   Education  EducationNumber  \\\n",
       "0   39          State-gov    77516   Bachelors               13   \n",
       "1   50   Self-emp-not-inc    83311   Bachelors               13   \n",
       "2   38            Private   215646     HS-grad                9   \n",
       "3   53            Private   234721        11th                7   \n",
       "4   28            Private   338409   Bachelors               13   \n",
       "\n",
       "         MaritalStatus          Occupation    Relationship    Race      Sex  \\\n",
       "0        Never-married        Adm-clerical   Not-in-family   White     Male   \n",
       "1   Married-civ-spouse     Exec-managerial         Husband   White     Male   \n",
       "2             Divorced   Handlers-cleaners   Not-in-family   White     Male   \n",
       "3   Married-civ-spouse   Handlers-cleaners         Husband   Black     Male   \n",
       "4   Married-civ-spouse      Prof-specialty            Wife   Black   Female   \n",
       "\n",
       "   CapitalGain  CapitalLoss  HoursPerWeek   NativeCountry   Class  \n",
       "0         2174            0            40   United-States   <=50K  \n",
       "1            0            0            13   United-States   <=50K  \n",
       "2            0            0            40   United-States   <=50K  \n",
       "3            0            0            40   United-States   <=50K  \n",
       "4            0            0            40            Cuba   <=50K  "
      ]
     },
     "execution_count": 4,
     "metadata": {},
     "output_type": "execute_result"
    }
   ],
   "source": [
    "df_data = pd.read_csv('clusteringdata.csv', encoding='latin1')\n",
    "df_data.head()"
   ]
  },
  {
   "cell_type": "code",
   "execution_count": 5,
   "metadata": {},
   "outputs": [],
   "source": [
    "le = LabelEncoder()\n",
    "Class = le.fit_transform(df_data.Class)\n",
    "df_data[\"Class\"]=Class\n",
    "NativeCountry = le.fit_transform(df_data.NativeCountry)\n",
    "df_data[\"NativeCountry\"]=NativeCountry\n",
    "Sex= le.fit_transform(df_data.Sex)\n",
    "df_data[\"Sex\"]=Sex\n",
    "Race= le.fit_transform(df_data.Race)\n",
    "df_data[\"Race\"]=Race\n",
    "Relationship= le.fit_transform(df_data.Relationship)\n",
    "df_data[\"Relationship\"]=Relationship\n",
    "Occupation= le.fit_transform(df_data.Occupation)\n",
    "df_data[\"Occupation\"]=Occupation\n",
    "Education= le.fit_transform(df_data.Education)\n",
    "df_data[\"Education\"]=Education\n",
    "WorkClass= le.fit_transform(df_data.WorkClass)\n",
    "df_data[\"WorkClass\"]=WorkClass\n",
    "MaritalStatus= le.fit_transform(df_data.MaritalStatus)\n",
    "df_data[\"MaritalStatus\"]=MaritalStatus"
   ]
  },
  {
   "cell_type": "code",
   "execution_count": 6,
   "metadata": {},
   "outputs": [
    {
     "data": {
      "text/html": [
       "<div>\n",
       "<style scoped>\n",
       "    .dataframe tbody tr th:only-of-type {\n",
       "        vertical-align: middle;\n",
       "    }\n",
       "\n",
       "    .dataframe tbody tr th {\n",
       "        vertical-align: top;\n",
       "    }\n",
       "\n",
       "    .dataframe thead th {\n",
       "        text-align: right;\n",
       "    }\n",
       "</style>\n",
       "<table border=\"1\" class=\"dataframe\">\n",
       "  <thead>\n",
       "    <tr style=\"text-align: right;\">\n",
       "      <th></th>\n",
       "      <th>Age</th>\n",
       "      <th>WorkClass</th>\n",
       "      <th>Fnlwght</th>\n",
       "      <th>Education</th>\n",
       "      <th>EducationNumber</th>\n",
       "      <th>MaritalStatus</th>\n",
       "      <th>Occupation</th>\n",
       "      <th>Relationship</th>\n",
       "      <th>Race</th>\n",
       "      <th>Sex</th>\n",
       "      <th>CapitalGain</th>\n",
       "      <th>CapitalLoss</th>\n",
       "      <th>HoursPerWeek</th>\n",
       "      <th>NativeCountry</th>\n",
       "      <th>Class</th>\n",
       "    </tr>\n",
       "  </thead>\n",
       "  <tbody>\n",
       "    <tr>\n",
       "      <th>0</th>\n",
       "      <td>39</td>\n",
       "      <td>6</td>\n",
       "      <td>77516</td>\n",
       "      <td>9</td>\n",
       "      <td>13</td>\n",
       "      <td>4</td>\n",
       "      <td>1</td>\n",
       "      <td>1</td>\n",
       "      <td>4</td>\n",
       "      <td>1</td>\n",
       "      <td>2174</td>\n",
       "      <td>0</td>\n",
       "      <td>40</td>\n",
       "      <td>37</td>\n",
       "      <td>0</td>\n",
       "    </tr>\n",
       "    <tr>\n",
       "      <th>1</th>\n",
       "      <td>50</td>\n",
       "      <td>5</td>\n",
       "      <td>83311</td>\n",
       "      <td>9</td>\n",
       "      <td>13</td>\n",
       "      <td>2</td>\n",
       "      <td>4</td>\n",
       "      <td>0</td>\n",
       "      <td>4</td>\n",
       "      <td>1</td>\n",
       "      <td>0</td>\n",
       "      <td>0</td>\n",
       "      <td>13</td>\n",
       "      <td>37</td>\n",
       "      <td>0</td>\n",
       "    </tr>\n",
       "    <tr>\n",
       "      <th>2</th>\n",
       "      <td>38</td>\n",
       "      <td>3</td>\n",
       "      <td>215646</td>\n",
       "      <td>11</td>\n",
       "      <td>9</td>\n",
       "      <td>0</td>\n",
       "      <td>6</td>\n",
       "      <td>1</td>\n",
       "      <td>4</td>\n",
       "      <td>1</td>\n",
       "      <td>0</td>\n",
       "      <td>0</td>\n",
       "      <td>40</td>\n",
       "      <td>37</td>\n",
       "      <td>0</td>\n",
       "    </tr>\n",
       "    <tr>\n",
       "      <th>3</th>\n",
       "      <td>53</td>\n",
       "      <td>3</td>\n",
       "      <td>234721</td>\n",
       "      <td>1</td>\n",
       "      <td>7</td>\n",
       "      <td>2</td>\n",
       "      <td>6</td>\n",
       "      <td>0</td>\n",
       "      <td>2</td>\n",
       "      <td>1</td>\n",
       "      <td>0</td>\n",
       "      <td>0</td>\n",
       "      <td>40</td>\n",
       "      <td>37</td>\n",
       "      <td>0</td>\n",
       "    </tr>\n",
       "    <tr>\n",
       "      <th>4</th>\n",
       "      <td>28</td>\n",
       "      <td>3</td>\n",
       "      <td>338409</td>\n",
       "      <td>9</td>\n",
       "      <td>13</td>\n",
       "      <td>2</td>\n",
       "      <td>10</td>\n",
       "      <td>5</td>\n",
       "      <td>2</td>\n",
       "      <td>0</td>\n",
       "      <td>0</td>\n",
       "      <td>0</td>\n",
       "      <td>40</td>\n",
       "      <td>5</td>\n",
       "      <td>0</td>\n",
       "    </tr>\n",
       "  </tbody>\n",
       "</table>\n",
       "</div>"
      ],
      "text/plain": [
       "   Age  WorkClass  Fnlwght  Education  EducationNumber  MaritalStatus  \\\n",
       "0   39          6    77516          9               13              4   \n",
       "1   50          5    83311          9               13              2   \n",
       "2   38          3   215646         11                9              0   \n",
       "3   53          3   234721          1                7              2   \n",
       "4   28          3   338409          9               13              2   \n",
       "\n",
       "   Occupation  Relationship  Race  Sex  CapitalGain  CapitalLoss  \\\n",
       "0           1             1     4    1         2174            0   \n",
       "1           4             0     4    1            0            0   \n",
       "2           6             1     4    1            0            0   \n",
       "3           6             0     2    1            0            0   \n",
       "4          10             5     2    0            0            0   \n",
       "\n",
       "   HoursPerWeek  NativeCountry  Class  \n",
       "0            40             37      0  \n",
       "1            13             37      0  \n",
       "2            40             37      0  \n",
       "3            40             37      0  \n",
       "4            40              5      0  "
      ]
     },
     "execution_count": 6,
     "metadata": {},
     "output_type": "execute_result"
    }
   ],
   "source": [
    "df_data.head()"
   ]
  },
  {
   "cell_type": "markdown",
   "metadata": {},
   "source": [
    "## TASK 1: K-Means Clustering"
   ]
  },
  {
   "cell_type": "markdown",
   "metadata": {},
   "source": [
    "### Task 1-a: Determine “k” value from the elbow method"
   ]
  },
  {
   "cell_type": "markdown",
   "metadata": {},
   "source": [
    "In this task, you will be using the elbow method to determine the optimal number of clusters for k-means clustering.\n",
    "\n",
    "We need some way to determine whether we are using the right number of clusters when using k-means clustering. One method to validate the number of clusters is the elbow method. \n",
    "\n",
    "The idea of the elbow method is to run k-means clustering on the dataset for a range of values of k (k will be from 1 to 10 in this task), and for each value of k calculate the sum of squared errors (SSE). Then, plot a line chart of the SSE for each value of k. If the line chart looks like an arm, then the \"elbow\" on the arm is the value of k that is the best. The idea is that we want a small SSE, but that the SSE tends to decrease toward 0 as we increase k (the SSE is 0 when k is equal to the number of data points in the dataset, because then each data point is a cluster, and there is no error between it and the center of its cluster). So our goal is to choose a small value of k that still has a low SSE, and the elbow usually represents where we start to have diminishing returns by increasing k.\n",
    "\n",
    "For this task, you need to perform the elbow method for k from 1 to 10 and plot a line chart of the SSE for each value of k, and determine the best k (the number of clusters). Note that you need to use the whole dataset in this task and you need to print your decision for k."
   ]
  },
  {
   "cell_type": "code",
   "execution_count": 7,
   "metadata": {
    "scrolled": true
   },
   "outputs": [
    {
     "data": {
      "image/png": "[encoded data removed]",
      "text/plain": [
       "<Figure size 432x288 with 1 Axes>"
      ]
     },
     "metadata": {
      "needs_background": "light"
     },
     "output_type": "display_data"
    },
    {
     "name": "stdout",
     "output_type": "stream",
     "text": [
      "Optimal value for k is 3\n"
     ]
    }
   ],
   "source": [
    "#########################begin code for Task 1-a\n",
    "#########################begin code for Task 1-a\n",
    "\n",
    "import matplotlib.pyplot as plt\n",
    "SSE = {}\n",
    "for k in range(1, 10):\n",
    "    kmeans = KMeans(n_clusters=k, max_iter=1000).fit(df_data)\n",
    "    SSE[k] = kmeans.inertia_ \n",
    "plt.figure()\n",
    "plt.plot(list(SSE.keys()), list(SSE.values()))\n",
    "plt.xlabel(\"Number of cluster\")\n",
    "plt.ylabel(\"SSE\")\n",
    "plt.plot(3,SSE[3],marker='o')\n",
    "plt.show()\n",
    "print(\"Optimal value for k is 3\")\n",
    "#########################begin code for Task 1-a\n",
    "\n",
    "#########################begin code for Task 1-a\n"
   ]
  },
  {
   "cell_type": "markdown",
   "metadata": {},
   "source": [
    "### Task 1-b: Visualization for K-Means Clustering"
   ]
  },
  {
   "cell_type": "markdown",
   "metadata": {},
   "source": [
    "In this task, you will be performing k-means clustering for k=2 and visualize the predicted training samples and actual training samples on scatter plots. Use 70% of the dataset for training and 30% of the dataset for testing. Perform kmeans for clustering samples in your training set. \n",
    "\n",
    "Use two subplots for visualizing the predicted training samples and actual training samples on two scatter plots.\n",
    "\n",
    "Since your dataset has multiple features(dimensions), you won't be able to plot your data on a scatter plot. Thus, you’re going to visualize your data with the help of one of the Dimensionality Reduction techniques, namely Principal Component Analysis (PCA). The idea in PCA is to find a linear combination of the two variables that contains most of the information. This new variable or “principal component” can replace the two original variables. You can easily apply PCA to your data with the help of scikit-learn.\n",
    "\n"
   ]
  },
  {
   "cell_type": "code",
   "execution_count": 8,
   "metadata": {},
   "outputs": [],
   "source": [
    "###################begin code for Task 1-b-1: Split the dataset 70% for training and 30% for testing\n",
    "\n",
    "### Important!!!\n",
    "X_train = df_data.sample(frac=0.70, random_state=0)\n",
    "X_test = df_data.drop(X_train.index)\n",
    "y_train = X_train.pop('Class')\n",
    "y_test = X_test.pop('Class')\n",
    "###################end code for Task 1-b-1"
   ]
  },
  {
   "cell_type": "code",
   "execution_count": 9,
   "metadata": {},
   "outputs": [
    {
     "data": {
      "image/png": "[encoded data removed]",
      "text/plain": [
       "<Figure size 432x288 with 1 Axes>"
      ]
     },
     "metadata": {
      "needs_background": "light"
     },
     "output_type": "display_data"
    },
    {
     "data": {
      "image/png": "[encoded data removed]",
      "text/plain": [
       "<Figure size 432x288 with 1 Axes>"
      ]
     },
     "metadata": {
      "needs_background": "light"
     },
     "output_type": "display_data"
    }
   ],
   "source": [
    "\n",
    "###################begin code for Task 1-b-2: Visualize the predicted training labels vs actual training labels\n",
    "\n",
    "# Import PCA\n",
    "from sklearn.decomposition import PCA\n",
    "\n",
    "\n",
    "# Create the KMeans model\n",
    "kmeans = KMeans(n_clusters=2, random_state=0).fit(X_train)\n",
    "\n",
    "# Compute cluster centers and predict cluster index for each sample \n",
    "\n",
    "index=kmeans.predict(X_train)\n",
    "\n",
    "# Model and fit the data to the PCA model\n",
    "X_train_pca = PCA(n_components=2).fit_transform(X_train)\n",
    "\n",
    "# Visualize the predicted training labels vs actual training labels. \n",
    "### scatter(x, y, your_data)\n",
    "x = X_train_pca[:, 0]\n",
    "y = X_train_pca[:, 1]\n",
    "plt.title(\"Predicted training labels\")\n",
    "plt.scatter(x,y,c=index)\n",
    "plt.show()\n",
    "plt.title(\"Actual training labels\")\n",
    "plt.scatter(x,y,c=y_train)\n",
    "plt.show()\n",
    "\n",
    "###################end code for Task 1-b-2\n"
   ]
  },
  {
   "cell_type": "markdown",
   "metadata": {},
   "source": [
    "Now, you need to visualize the predicted testing labels versus actual testing labels. Use the trained model in previous step."
   ]
  },
  {
   "cell_type": "code",
   "execution_count": 10,
   "metadata": {},
   "outputs": [
    {
     "data": {
      "image/png": "[encoded data removed]",
      "text/plain": [
       "<Figure size 432x288 with 1 Axes>"
      ]
     },
     "metadata": {
      "needs_background": "light"
     },
     "output_type": "display_data"
    },
    {
     "data": {
      "image/png": "[encoded data removed]",
      "text/plain": [
       "<Figure size 432x288 with 1 Axes>"
      ]
     },
     "metadata": {
      "needs_background": "light"
     },
     "output_type": "display_data"
    }
   ],
   "source": [
    "###################begin code for Task 1-b-3: Visualize the predicted testing labels vs actual testing labels\n",
    "\n",
    "kmeans = KMeans(n_clusters=2, random_state=0).fit(X_test)\n",
    "# predict cluster index for each sample \n",
    "index1=kmeans.predict(X_test)\n",
    "# Model and fit the data to the PCA model\n",
    "X_test_pca = PCA(n_components=2).fit_transform(X_test)\n",
    "\n",
    "# Visualize the predicted testing labels vs actual testing labels. \n",
    "### scatter(x, y, your_data)\n",
    "x = X_test_pca[:, 0]\n",
    "y = X_test_pca[:, 1]\n",
    "plt.title(\"Predicted testing labels\")\n",
    "plt.scatter(x,y,c=index1)\n",
    "plt.show()\n",
    "plt.title(\"Actual testing labels\")\n",
    "plt.scatter(x,y,c=y_test)\n",
    "plt.show()\n",
    "###################end code for Task 1-b-3"
   ]
  },
  {
   "cell_type": "markdown",
   "metadata": {},
   "source": [
    "In this step, you need to provide the evaluation of your clustering model. Print out a confusion matrix."
   ]
  },
  {
   "cell_type": "code",
   "execution_count": 11,
   "metadata": {},
   "outputs": [
    {
     "name": "stdout",
     "output_type": "stream",
     "text": [
      "Confusion matrix for training data \n",
      " [[ 760 1889]\n",
      " [ 195  656]]\n",
      "Confusion matrix for training data \n",
      " [[817 313]\n",
      " [271  99]]\n"
     ]
    }
   ],
   "source": [
    "###################begin code for Task 1-b-4: Print out a confusion matrix\n",
    "print(\"Confusion matrix for training data \\n\",confusion_matrix(y_train,index))\n",
    "print(\"Confusion matrix for training data \\n\",confusion_matrix(y_test,index1))\n",
    "###################end code for Task 1-b-4"
   ]
  },
  {
   "cell_type": "markdown",
   "metadata": {},
   "source": [
    "# TASK 2: Hierarchical Agglomerative  Clustering"
   ]
  },
  {
   "cell_type": "markdown",
   "metadata": {},
   "source": [
    "## Task 2-a: Find the best Hierarchical Agglomerative Clustering Model"
   ]
  },
  {
   "cell_type": "markdown",
   "metadata": {},
   "source": [
    "In this task, you will be performing Hierarchical Agglomerative clustering with different linkage methods (complete and average) and different similarity measures (cosine, euclidean, and manhattan) in order to find the best pair of linkage method and similarity measure. Use F1 score for evaluation and take n_clusters = 2.\n"
   ]
  },
  {
   "cell_type": "code",
   "execution_count": 12,
   "metadata": {},
   "outputs": [
    {
     "name": "stdout",
     "output_type": "stream",
     "text": [
      "F1-score for complete linkage + cosine 0.00702576112412178\n",
      "F1-score for complete linkage + euclidean 0.004672897196261682\n",
      "F1-score for complete linkage + manhattan 0.004672897196261682\n",
      "F1-score for average linkage + cosine 0.00702576112412178\n",
      "F1-score for average linkage + euclidean 0.39055992596020356\n",
      "F1-score for average linkage + manhattan 0.3907040957202025\n"
     ]
    }
   ],
   "source": [
    "###################begin code for Task 2-a: Print out a confusion matrix\n",
    "# Import AgglomerativeClustering \n",
    "from sklearn.cluster import AgglomerativeClustering\n",
    "# Import pairwise_distances for calculating pairwise distance matrix\n",
    "from sklearn.metrics.pairwise import pairwise_distances\n",
    "# Import f1_score\n",
    "from sklearn.metrics import f1_score\n",
    "\n",
    "\n",
    "## Calculate pairwise distance matrix for X_train\n",
    "pdm_train = X_train\n",
    "cosine_distance = pairwise_distances(pdm_train,metric='cosine')\n",
    "euclidean_distance = pairwise_distances(pdm_train,metric='euclidean')\n",
    "manhattan_distance = pairwise_distances(pdm_train,metric='manhattan')\n",
    "## Model and fit the training data to the AgglomerativeClustering model\n",
    "## complete linkage + cosine\n",
    "cos_comp = AgglomerativeClustering(n_clusters=2,linkage='complete',affinity='precomputed').fit_predict(cosine_distance)\n",
    "cos_comp_f1 = f1_score(y_train,cos_comp)\n",
    "## Model and fit the training data to the AgglomerativeClustering model\n",
    "## complete linkage + euclidean\n",
    "euc_comp = AgglomerativeClustering(n_clusters=2,linkage='complete',affinity='precomputed').fit_predict(euclidean_distance)\n",
    "euc_comp_f1 = f1_score(y_train,euc_comp)\n",
    "\n",
    "## Model and fit the training data to the AgglomerativeClustering model\n",
    "## complete linkage + manhattan\n",
    "man_comp = AgglomerativeClustering(n_clusters=2,linkage='complete',affinity='precomputed').fit_predict(manhattan_distance)\n",
    "man_comp_f1 = f1_score(y_train,man_comp)\n",
    "\n",
    "## Model and fit the training data to the AgglomerativeClustering model\n",
    "## average linkage + cosine\n",
    "cos_avg = AgglomerativeClustering(n_clusters=2,linkage='average',affinity='precomputed').fit_predict(cosine_distance)\n",
    "cos_avg_f1 = f1_score(y_train,cos_avg)\n",
    "\n",
    "## Model and fit the training data to the AgglomerativeClustering model\n",
    "## average linkage + euclidean\n",
    "euc_avg = AgglomerativeClustering(n_clusters=2,linkage='average',affinity='precomputed').fit_predict(euclidean_distance)\n",
    "euc_avg_f1 = f1_score(y_train,euc_avg)\n",
    "\n",
    "## Model and fit the training data to the AgglomerativeClustering model\n",
    "## average linkage + manhattan\n",
    "man_avg = AgglomerativeClustering(n_clusters=2,linkage='average',affinity='precomputed').fit_predict(manhattan_distance)\n",
    "man_avg_f1 = f1_score(y_train,man_avg)\n",
    "\n",
    "print(\"F1-score for complete linkage + cosine\", cos_comp_f1)\n",
    "print(\"F1-score for complete linkage + euclidean\", euc_comp_f1)\n",
    "print(\"F1-score for complete linkage + manhattan\", man_comp_f1)\n",
    "print(\"F1-score for average linkage + cosine\", cos_avg_f1)\n",
    "print(\"F1-score for average linkage + euclidean\", euc_avg_f1)\n",
    "print(\"F1-score for average linkage + manhattan\", man_avg_f1)\n",
    "\n",
    "\n",
    "###################end code for Task 2-a"
   ]
  },
  {
   "cell_type": "markdown",
   "metadata": {},
   "source": [
    "## Task 2-b:  Visualization for Hierarchical Agglomerative Clustering"
   ]
  },
  {
   "cell_type": "markdown",
   "metadata": {},
   "source": [
    "Find the best performed model from the previous step and use that model for visualizing the predicted training samples and actual training samples on scatter plots. Use PCA model for visualizing your data (use X_train_pca from Task 1-b-2). "
   ]
  },
  {
   "cell_type": "code",
   "execution_count": 13,
   "metadata": {},
   "outputs": [
    {
     "data": {
      "image/png": "[encoded data removed]",
      "text/plain": [
       "<Figure size 432x288 with 1 Axes>"
      ]
     },
     "metadata": {
      "needs_background": "light"
     },
     "output_type": "display_data"
    },
    {
     "data": {
      "image/png": "[encoded data removed]",
      "text/plain": [
       "<Figure size 432x288 with 1 Axes>"
      ]
     },
     "metadata": {
      "needs_background": "light"
     },
     "output_type": "display_data"
    }
   ],
   "source": [
    "###################begin code for Task 2-b: Visualize the predicted training labels vs actual training labels\n",
    "\n",
    "\n",
    "# Visualize the predicted training labels versus actual training labels. \n",
    "\n",
    "models = {'cos_comp':cos_comp_f1,'euc_comp':euc_comp_f1,'man_comp':man_comp_f1,'cos_avg':cos_avg_f1,'euc_avg':euc_avg_f1,'man_avg':man_avg_f1}\n",
    "best_model_val = max(models,key=models.get)\n",
    "\n",
    "if best_model_val == 'cos_comp':\n",
    "    best_model = cos_comp\n",
    "\n",
    "elif best_model_val == 'euc_comp':\n",
    "    best_model = euc_comp\n",
    "\n",
    "elif best_model_val == 'man_comp':\n",
    "    best_model = man_comp\n",
    "\n",
    "elif best_model_val == 'cos_avg':\n",
    "    best_model = cos_avg\n",
    "\n",
    "elif best_model_val == 'euc_avg':\n",
    "    best_model = euc_avg\n",
    "\n",
    "elif best_model_val == 'man_avg':\n",
    "    best_model = man_avg\n",
    "\n",
    "else:\n",
    "    best_model = None\n",
    "\n",
    "X_train_pca = PCA(n_components=2).fit_transform(X_train)\n",
    "\n",
    "# Visualize the predicted training labels vs actual training labels. \n",
    "### scatter(x, y, your_data)\n",
    "x = X_train_pca[:,0]\n",
    "y = X_train_pca[:,1]\n",
    "plt.scatter(x,y,c=best_model)\n",
    "plt.title(\"Predicted training labels\")\n",
    "plt.show()\n",
    "plt.scatter(x,y,c=y_train)\n",
    "plt.title(\"Actual training labels\")\n",
    "plt.show()\n",
    "###################end code for Task 2-b"
   ]
  },
  {
   "cell_type": "markdown",
   "metadata": {},
   "source": [
    "# TASK 3:  WEKA Visualization of K-means Clustering and Hierarchical Agglomerative Clustering"
   ]
  },
  {
   "cell_type": "markdown",
   "metadata": {},
   "source": [
    "## Task 3-a : Visualize the k-means clustering using weka"
   ]
  },
  {
   "cell_type": "code",
   "execution_count": 14,
   "metadata": {},
   "outputs": [],
   "source": [
    "###################start Task 3-a\n",
    "\n",
    "\n",
    "\n",
    "###################end Task 3-a"
   ]
  },
  {
   "cell_type": "markdown",
   "metadata": {},
   "source": [
    "## Task 3-b : Visualize the hierarchical clustering using weka"
   ]
  },
  {
   "cell_type": "code",
   "execution_count": 15,
   "metadata": {},
   "outputs": [],
   "source": [
    "###################start Task 3-b\n",
    "\n",
    "\n",
    "\n",
    "###################end Task 3-b"
   ]
  },
  {
   "cell_type": "markdown",
   "metadata": {},
   "source": [
    "# (BONUS)\n",
    "# TASK 4:  Compare K-Means Clustering and Hierarchical Agglomerative Clustering"
   ]
  },
  {
   "cell_type": "markdown",
   "metadata": {},
   "source": [
    "## Task 4-a: Visualize Clusters "
   ]
  },
  {
   "cell_type": "markdown",
   "metadata": {},
   "source": [
    "In this task, use whole dataset for training k-means cluster and hierarchical agglomerative clustering. Use the best model for agglomerative clustering. Visualize the predicted labels from k-means clustering and agglomerative clustering versus actual labels. Basically, you need to plot three scatter plots as subplots. "
   ]
  },
  {
   "cell_type": "code",
   "execution_count": 16,
   "metadata": {},
   "outputs": [
    {
     "data": {
      "image/png": "[encoded data removed]",
      "text/plain": [
       "<Figure size 432x288 with 1 Axes>"
      ]
     },
     "metadata": {
      "needs_background": "light"
     },
     "output_type": "display_data"
    },
    {
     "data": {
      "image/png": "[encoded data removed]",
      "text/plain": [
       "<Figure size 432x288 with 1 Axes>"
      ]
     },
     "metadata": {
      "needs_background": "light"
     },
     "output_type": "display_data"
    },
    {
     "data": {
      "image/png": "[encoded data removed]",
      "text/plain": [
       "<Figure size 432x288 with 1 Axes>"
      ]
     },
     "metadata": {
      "needs_background": "light"
     },
     "output_type": "display_data"
    }
   ],
   "source": [
    "###################begin code for Task 4-a: Visualize the predicted training labels vs actual training labels\n",
    "\n",
    "### Kmeans Clustering\n",
    "# Model and fit the data to the Kmeans (use fit_predict : Performs clustering on X and returns cluster labels.)\n",
    "X = df_data[df_data.columns[:-1]]\n",
    "y = df_data[df_data.columns[-1]]\n",
    "\n",
    "kmeans_data = KMeans(n_clusters=2,random_state=0)\n",
    "kmeans_data_fit = kmeans_data.fit_predict(X)\n",
    "\n",
    "\n",
    "### Agglomerative Clustering\n",
    "# Calculate pairwise distance matrix for X\n",
    "cosine_distance = pairwise_distances(X,metric='cosine')\n",
    "euclidean_distance = pairwise_distances(X,metric='euclidean')\n",
    "manhattan_distance = pairwise_distances(X,metric='manhattan')\n",
    "\n",
    "# Model and fit the data to the Agglomerative (use fit_predict : Performs clustering on X and returns cluster labels.)\n",
    "cos_comp = AgglomerativeClustering(n_clusters=2,linkage='complete',affinity='precomputed').fit_predict(cosine_distance)\n",
    "cos_comp_f1 = f1_score(y,cos_comp)\n",
    "euc_comp = AgglomerativeClustering(n_clusters=2,linkage='complete',affinity='precomputed').fit_predict(euclidean_distance)\n",
    "euc_comp_f1 = f1_score(y,euc_comp)\n",
    "man_comp = AgglomerativeClustering(n_clusters=2,linkage='complete',affinity='precomputed').fit_predict(manhattan_distance)\n",
    "man_comp_f1 = f1_score(y,man_comp)\n",
    "cos_avg = AgglomerativeClustering(n_clusters=2,linkage='average',affinity='precomputed').fit_predict(cosine_distance)\n",
    "cos_avg_f1 = f1_score(y,cos_avg)\n",
    "euc_avg = AgglomerativeClustering(n_clusters=2,linkage='average',affinity='precomputed').fit_predict(euclidean_distance)\n",
    "euc_avg_f1 = f1_score(y,euc_avg)\n",
    "man_avg = AgglomerativeClustering(n_clusters=2,linkage='average',affinity='precomputed').fit_predict(manhattan_distance)\n",
    "man_avg_f1 = f1_score(y,man_avg)\n",
    "models = {'cos_comp':cos_comp_f1,'euc_comp':euc_comp_f1,'man_comp':man_comp_f1,'cos_avg':cos_avg_f1,'euc_avg':euc_avg_f1,'man_avg':man_avg_f1}\n",
    "best_model_val = max(models,key=models.get)\n",
    "if best_model_val == 'cos_comp':\n",
    "    best_model = cos_comp\n",
    "elif best_model_val == 'euc_comp':\n",
    "    best_model = euc_comp\n",
    "elif best_model_val == 'man_comp':\n",
    "    best_model = man_comp\n",
    "elif best_model_val == 'cos_avg':\n",
    "    best_model = cos_avg   \n",
    "elif best_model_val == 'euc_avg':\n",
    "    best_model = euc_avg\n",
    "elif best_model_val == 'man_avg':\n",
    "    best_model = man_avg\n",
    "else:\n",
    "    best_model = None\n",
    "\n",
    "### Visualize Clusters\n",
    "#  Model and fit the data to the PCA model\n",
    "X_pca = PCA(n_components=2).fit_transform(X)\n",
    "x = X_pca[:,0]\n",
    "y = X_pca[:,1]\n",
    "\n",
    "\n",
    "# Visualize the predicted Kmeans labels versus  the predicted Agglomerative labels versus Actual labels. \n",
    "plt.scatter(x,y,c=kmeans_data_fit)\n",
    "plt.title(\"Predicted kmeans labels\")\n",
    "plt.show()\n",
    "plt.scatter(x,y,c=best_model)\n",
    "plt.title(\"Predicted Agglomerative labels\")\n",
    "plt.show()\n",
    "plt.title(\"Actual Labels\")\n",
    "plt.scatter(x,y,c=y)#actual\n",
    "plt.show()\n",
    "###################end code for Task 4-a"
   ]
  },
  {
   "cell_type": "markdown",
   "metadata": {},
   "source": [
    "## Task 4-b: Compare K-Means Clustering &  Hierarchical Agglomerative Clustering"
   ]
  },
  {
   "cell_type": "markdown",
   "metadata": {},
   "source": [
    "Print out confusion matrices for kmeans and agglomerative clustering. Also, compare precision, recall, and F1-score for both model. Type your reasoning."
   ]
  },
  {
   "cell_type": "code",
   "execution_count": 17,
   "metadata": {},
   "outputs": [
    {
     "name": "stdout",
     "output_type": "stream",
     "text": [
      "Confusion matrix\n",
      "\n",
      "Kmeans:\n",
      "[[2712 1067]\n",
      " [ 927  294]]\n",
      "Agglomerative:\n",
      "[[ 130 3649]\n",
      " [  27 1194]]\n",
      "\n",
      "Precision\n",
      "\n",
      "Kmeans:\n",
      "0.216017634092579\n",
      "Agglomerative:\n",
      "0.24654139995870328\n",
      "\n",
      "Recall\n",
      "\n",
      "Kmeans:\n",
      "0.24078624078624078\n",
      "Agglomerative:\n",
      "0.9778869778869779\n",
      "\n",
      "F1 Score\n",
      "\n",
      "Kmeans:\n",
      "0.22773044151820293\n",
      "Agglomerative:\n",
      "0.39379947229551454\n",
      "Accuracy of kmeans: 0.6012\n",
      "Accuracy of agglomerative : 0.2648\n"
     ]
    }
   ],
   "source": [
    "###################begin code for Task 4-b\n",
    "X = df_data[df_data.columns[:-1]]\n",
    "y = df_data[df_data.columns[-1]]\n",
    "print(\"Confusion matrix\\n\")\n",
    "kmeans_conf = confusion_matrix(y,kmeans_data_fit)\n",
    "agglo_conf = confusion_matrix(y,best_model)\n",
    "print(\"Kmeans:\")\n",
    "print(kmeans_conf)\n",
    "print(\"Agglomerative:\")\n",
    "print(agglo_conf)\n",
    "print(\"\\nPrecision\\n\")\n",
    "kmeans_prec = precision_score(y,kmeans_data_fit)\n",
    "agglo_prec = precision_score(y,best_model)\n",
    "print(\"Kmeans:\")\n",
    "print(kmeans_prec)\n",
    "print(\"Agglomerative:\")\n",
    "print(agglo_prec)\n",
    "print(\"\\nRecall\\n\")\n",
    "kmeans_recall = recall_score(y,kmeans_data_fit)\n",
    "agglo_recall = recall_score(y,best_model)\n",
    "print(\"Kmeans:\")\n",
    "print(kmeans_recall)\n",
    "print(\"Agglomerative:\")\n",
    "print(agglo_recall)\n",
    "print(\"\\nF1 Score\\n\")\n",
    "kmeans_score = f1_score(y,kmeans_data_fit)\n",
    "agglo_score = f1_score(y,best_model)\n",
    "print(\"Kmeans:\")\n",
    "print(kmeans_score)\n",
    "print(\"Agglomerative:\")\n",
    "print(agglo_score)\n",
    "print(\"Accuracy of kmeans:\",metrics.accuracy_score(y,kmeans_data_fit))\n",
    "print(\"Accuracy of agglomerative :\",metrics.accuracy_score(y,best_model))\n",
    "###################end code for Task 4-b"
   ]
  },
  {
   "cell_type": "markdown",
   "metadata": {},
   "source": [
    "## Grading "
   ]
  },
  {
   "cell_type": "markdown",
   "metadata": {},
   "source": [
    "<b>[05 points] Follow the Rules</b> \n",
    "\n",
    "\n",
    "<b>[30 points] Task 1:</b>  \n",
    "\n",
    "    [05 points] Task 1-a: Determine “k” value from the elbow method\n",
    "\n",
    "    [20 points] Task 1-b: Visualization for K-Means Clustering\n",
    "\n",
    "        [05 points] Task 1-b-1: Split the dataset \n",
    "    \n",
    "        [05 points] Task 1-b-2: Visualize the predicted training vs actual training labels \n",
    "    \n",
    "        [05 points] Task 1-b-3: Visualize the predicted testing vs actual testing labels\n",
    "    \n",
    "        [05 points] Task 1-b-4: Print out a confusion matrix\n",
    "    \n",
    "\n",
    "\n",
    "<b>[30 points] Task 2:</b>  \n",
    "\n",
    "    [20 points] Task 2-a: Find the best Hierarchical Agglomerative Clustering Model\n",
    "\n",
    "    [10 points] Task 2-b: Visualization for Hierarchical Agglomerative Clustering\n",
    "\n",
    "<b>[40 points] Task 3 (BONUS):</b> \n",
    "\n",
    "    Task 3-a: 20 points\n",
    "\n",
    "    Task 3-b: 20 points\n",
    "\n",
    "<b>[20 points] Task 4 (BONUS):</b> \n",
    "\n",
    "    Task 4-a: 10 points\n",
    "\n",
    "    Task 4-b: 10 points"
   ]
  }
 ],
 "metadata": {
  "celltoolbar": "Raw Cell Format",
  "kernelspec": {
   "display_name": "Python 3",
   "language": "python",
   "name": "python3"
  },
  "language_info": {
   "codemirror_mode": {
    "name": "ipython",
    "version": 3
   },
   "file_extension": ".py",
   "mimetype": "text/x-python",
   "name": "python",
   "nbconvert_exporter": "python",
   "pygments_lexer": "ipython3",
   "version": "3.7.6"
  }
 },
 "nbformat": 4,
 "nbformat_minor": 1
}
